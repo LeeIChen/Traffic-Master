{
 "cells": [
  {
   "cell_type": "code",
   "execution_count": null,
   "metadata": {},
   "outputs": [],
   "source": [
    "#importing all the libraries\n",
    "\n",
    "import numpy as np\n",
    "import pandas as pd\n",
    "import matplotlib.pyplot as plt\n",
    "%matplotlib inline"
   ]
  },
  {
   "cell_type": "markdown",
   "metadata": {},
   "source": [
    "Replace \"file_name\" with the name of the csv file in the following cell.\n",
    "Eg: data=pd.read_csv('2018_10_19.csv')"
   ]
  },
  {
   "cell_type": "code",
   "execution_count": null,
   "metadata": {},
   "outputs": [],
   "source": [
    "data=pd.read_csv('file_name.csv')"
   ]
  },
  {
   "cell_type": "code",
   "execution_count": null,
   "metadata": {},
   "outputs": [],
   "source": [
    "data.describe()"
   ]
  },
  {
   "cell_type": "markdown",
   "metadata": {},
   "source": [
    "Name\tComment\tUnits\n",
    "\n",
    "Timestamp\tThe date and time of the beginning of the summary interval. \n",
    "For example, a time of 08:00:00 indicates that the aggregate(s) contain measurements \n",
    "collected between 08:00:00 and 08:04:59. \n",
    "Note that second values are always 0 for five-minute aggregations. The format is MM/DD/YYYY HH24:MI:SS.\t \n",
    "Station\tUnique station identifier. Use this value to cross-reference with Metadata files.\t \n",
    "\n",
    "District\tDistrict #\t \n",
    "\n",
    "Freeway #\tFreeway #\t \n",
    "\n",
    "Direction of Travel\tN | S | E | W\t \n",
    "\n",
    "Lane Type\tA string indicating the type of lane. Possible values (and their meaning are:\n",
    "CD (Coll/Dist)\n",
    "CH (Conventional Highway)\n",
    "FF (Fwy-Fwy connector)\n",
    "FR (Off Ramp)\n",
    "HV (HOV)\n",
    "ML (Mainline)\n",
    "OR (On Ramp)\n",
    " \n",
    "Station Length\tSegment length covered by the station in miles/km.\t\n",
    "                                                                   \n",
    "Samples\tTotal number of samples received for all lanes.\t \n",
    "                                                                   \n",
    "% Observed\tPercentage of individual lane points at this location that were observed (e.g. not imputed).\t%\n",
    "                                                                   \n",
    "Total Flow\tSum of flows over the 5-minute period across all lanes. \n",
    "Note that the basic 5-minute rollup normalizes flow by the number of good samples received from the controller.\n",
    "Veh/5-min\n",
    "                                                                   \n",
    "Avg Occupancy\tAverage occupancy across all lanes over the 5-minute period expressed as a \n",
    "decimal number between 0 and 1.\t%\n",
    "                                                                   \n",
    "Avg Speed\tFlow-weighted average speed over the 5-minute period across all lanes. \n",
    "If flow is 0, mathematical average of 5-minute station speeds.\tMph\n",
    "                                                                   \n",
    "Lane N Samples\tNumber of good samples received for lane N. N ranges from 1 to the number \n",
    "of lanes at the location.\t \n",
    "                                                                   \n",
    "Lane N Flow\tTotal flow for lane N over the 5-minute period normalized by the number of good samples.\n",
    "Veh/5-min\n",
    "                                                                   \n",
    "Lane N Avg Occ\tAverage occupancy for lane N expressed as a decimal number between 0 and 1. \n",
    "N ranges from 1 to the number of lanes at the location.\t%\n",
    "                                                                   \n",
    "Lane N\n",
    "Avg Speed\tFlow-weighted average of lane N speeds. If flow is 0, mathematical average of 5-minute lane speeds. \n",
    "N ranges from 1 to the number of lanes\tMph\n",
    "                                                                   \n",
    "Lane N\n",
    "Observed\t1 indicates observed data, 0 indicates imputed."
   ]
  },
  {
   "cell_type": "code",
   "execution_count": null,
   "metadata": {},
   "outputs": [],
   "source": [
    "data.columns=['Time Stamp','Station','District','Freeway','Direction','Lane Type','Station Length',\\\n",
    "             'Samples','% Observed','Total Flow','Avg Occupancy','Avg Speed',\\\n",
    "             'Lane 1 Samples','Lane 2 Samples','Lane 3 Samples','Lane 4 Samples','Lane 5 Samples','Lane 6 Samples','Lane 7 Samples','Lane 8 Samples',\\\n",
    "             'Lane 1 flow','Lane 2 flow','Lane 3 flow','Lane 4 flow','Lane 5 flow','Lane 6 flow','Lane 7 flow','Lane 8 flow',\\\n",
    "             'Lane 1 avg Occupancy','Lane 2 avg Occupancy','Lane 3 avg Occupancy','Lane 4 avg Occupancy','Lane 5 avg Occupancy','Lane 6 avg Occupancy','Lane 7 avg Occupancy','Lane 8 avg Occupancy',\\\n",
    "             'Lane 1 Avg Speed','Lane 2 Avg Speed','Lane 3 Avg Speed','Lane 4 Avg Speed','Lane 5 Avg Speed','Lane 6 Avg Speed','Lane 7 Avg Speed','Lane 8 Avg Speed',\\\n",
    "             'Lane 1 Observed','Lane 2 Observed','Lane 3 Observed','Lane 4 Observed','Lane 5 Observed','Lane 6 Observed','Lane 7 Observed','Lane 8 Observed']"
   ]
  },
  {
   "cell_type": "code",
   "execution_count": null,
   "metadata": {},
   "outputs": [],
   "source": [
    "I210=pd.DataFrame(data[data['Freeway']==210])\n",
    "I210E=pd.DataFrame(I210[I210['Direction']=='E'])\n",
    "I210W=pd.DataFrame(I210[I210['Direction']=='W'])"
   ]
  },
  {
   "cell_type": "markdown",
   "metadata": {},
   "source": [
    "Replace \"date\" with the date of your csv file in the following cell.\n",
    "Eg: \n",
    "I210E.to_csv('2018_10_19-I210E.csv', encoding='utf-8')\n",
    "I210W.to_csv('2018_10_19-I210W.csv', encoding='utf-8')"
   ]
  },
  {
   "cell_type": "code",
   "execution_count": null,
   "metadata": {},
   "outputs": [],
   "source": [
    "I210E.to_csv('date-I210E.csv', encoding='utf-8')\n",
    "I210W.to_csv('date-I210W.csv', encoding='utf-8')"
   ]
  }
 ],
 "metadata": {
  "kernelspec": {
   "display_name": "Python 3",
   "language": "python",
   "name": "python3"
  },
  "language_info": {
   "codemirror_mode": {
    "name": "ipython",
    "version": 3
   },
   "file_extension": ".py",
   "mimetype": "text/x-python",
   "name": "python",
   "nbconvert_exporter": "python",
   "pygments_lexer": "ipython3",
   "version": "3.6.5"
  }
 },
 "nbformat": 4,
 "nbformat_minor": 2
}
